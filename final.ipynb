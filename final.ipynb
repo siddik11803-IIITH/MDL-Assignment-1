{
 "cells": [
  {
   "cell_type": "markdown",
   "id": "d6900ec6",
   "metadata": {},
   "source": [
    "# MDL Assignment - 2\n",
    "\n",
    "## Team Number - 57\n",
    "## Team Members - Siddik Ayyappa Naraharisetti and Sai Pranathi Kokkalla"
   ]
  },
  {
   "cell_type": "markdown",
   "id": "a7d595a6",
   "metadata": {},
   "source": [
    "Importing all the packages"
   ]
  },
  {
   "cell_type": "code",
   "execution_count": 52,
   "id": "e144d292",
   "metadata": {},
   "outputs": [],
   "source": [
    "import pickle\n",
    "from sklearn.preprocessing import PolynomialFeatures\n",
    "from sklearn.linear_model import LinearRegression"
   ]
  },
  {
   "cell_type": "markdown",
   "id": "cba99bf5",
   "metadata": {},
   "source": [
    "Extracton of data from the pkl file, using pickle.load()"
   ]
  },
  {
   "cell_type": "code",
   "execution_count": 53,
   "id": "69bee374",
   "metadata": {},
   "outputs": [],
   "source": [
    "file = open('./train.pkl', 'rb') # make sure the mode is read. And reading must be done in binary.\n",
    "load_data = pickle.load(file) # the data points are now contained in the load_data variable\n",
    "number_data = len(load_data) # the length of the data set is in number_data\n",
    "file.close()\n",
    "file = open('./test.pkl', 'rb')\n",
    "test_data_load = pickle.load(file)\n",
    "number_test_data = len(test_data_load)\n",
    "\n",
    "\n",
    "test_x = test_data_load[:, 0] # This is the x and y of the testing data sets\n",
    "test_y = test_data_load[:, 1]\n",
    "\n",
    "\n",
    "x = load_data[:, 0] # this is the x and y of the training data sets\n",
    "y = load_data[:, 1]\n"
   ]
  },
  {
   "cell_type": "markdown",
   "id": "81e337da",
   "metadata": {},
   "source": [
    "Now we have divided the data into 2 sets, x and y. Now it is time to resample the data.\n",
    "### Task - 2.2.1: Re-Sampling the data"
   ]
  },
  {
   "cell_type": "code",
   "execution_count": 54,
   "id": "8a9c72e5",
   "metadata": {},
   "outputs": [],
   "source": [
    "x_training_data_sets = []\n",
    "y_training_data_sets = []\n",
    "for i in range(0, 8000, 500):\n",
    "    x_training_data_sets.append(x[i:i+500])\n",
    "    y_training_data_sets.append(x[i:i+500])\n",
    "    "
   ]
  },
  {
   "cell_type": "markdown",
   "id": "40aac8a1",
   "metadata": {},
   "source": [
    "Now at x_training_data_sets and y_training_data_sets we would be having the training sets delivered randomly.\n",
    "\n",
    "### Task - 2.2.2 - Task"
   ]
  },
  {
   "cell_type": "code",
   "execution_count": null,
   "id": "b60f0348",
   "metadata": {},
   "outputs": [],
   "source": []
  }
 ],
 "metadata": {
  "kernelspec": {
   "display_name": "Python 3 (ipykernel)",
   "language": "python",
   "name": "python3"
  },
  "language_info": {
   "codemirror_mode": {
    "name": "ipython",
    "version": 3
   },
   "file_extension": ".py",
   "mimetype": "text/x-python",
   "name": "python",
   "nbconvert_exporter": "python",
   "pygments_lexer": "ipython3",
   "version": "3.9.10"
  }
 },
 "nbformat": 4,
 "nbformat_minor": 5
}
