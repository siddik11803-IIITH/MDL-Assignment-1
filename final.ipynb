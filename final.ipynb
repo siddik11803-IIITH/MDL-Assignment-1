{
 "cells": [
  {
   "cell_type": "markdown",
   "id": "d6900ec6",
   "metadata": {},
   "source": [
    "# MDL Assignment - 2\n",
    "\n",
    "## Team Number - 57\n",
    "## Team Members - Siddik Ayyappa Naraharisetti and Sai Pranathi Kokkalla"
   ]
  },
  {
   "cell_type": "markdown",
   "id": "a7d595a6",
   "metadata": {},
   "source": [
    "Importing all the packages"
   ]
  },
  {
   "cell_type": "code",
   "execution_count": 9,
   "id": "e144d292",
   "metadata": {},
   "outputs": [],
   "source": [
    "import pickle"
   ]
  },
  {
   "cell_type": "markdown",
   "id": "cba99bf5",
   "metadata": {},
   "source": [
    "Extracton of data from the pkl file, using pickle.load()"
   ]
  },
  {
   "cell_type": "code",
   "execution_count": 10,
   "id": "69bee374",
   "metadata": {},
   "outputs": [
    {
     "name": "stdout",
     "output_type": "stream",
     "text": [
      "8000\n"
     ]
    }
   ],
   "source": [
    "file = open('./train.pkl', 'rb') # make sure the mode is read. And reading must be done in binary.\n",
    "load_data = pickle.load(file) # the data points are now contained in the load_data variable\n",
    "number_data = len(load_data) # the length of the data set is in number_data\n"
   ]
  }
 ],
 "metadata": {
  "kernelspec": {
   "display_name": "Python 3 (ipykernel)",
   "language": "python",
   "name": "python3"
  },
  "language_info": {
   "codemirror_mode": {
    "name": "ipython",
    "version": 3
   },
   "file_extension": ".py",
   "mimetype": "text/x-python",
   "name": "python",
   "nbconvert_exporter": "python",
   "pygments_lexer": "ipython3",
   "version": "3.9.10"
  }
 },
 "nbformat": 4,
 "nbformat_minor": 5
}
